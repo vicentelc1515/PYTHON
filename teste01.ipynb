{
  "nbformat": 4,
  "nbformat_minor": 0,
  "metadata": {
    "colab": {
      "provenance": [],
      "authorship_tag": "ABX9TyOdzJTzsWjk1Tg+25rbdmd9",
      "include_colab_link": true
    },
    "kernelspec": {
      "name": "python3",
      "display_name": "Python 3"
    },
    "language_info": {
      "name": "python"
    }
  },
  "cells": [
    {
      "cell_type": "markdown",
      "metadata": {
        "id": "view-in-github",
        "colab_type": "text"
      },
      "source": [
        "<a href=\"https://colab.research.google.com/github/vicentelc1515/PYTHON/blob/main/teste01.ipynb\" target=\"_parent\"><img src=\"https://colab.research.google.com/assets/colab-badge.svg\" alt=\"Open In Colab\"/></a>"
      ]
    },
    {
      "cell_type": "code",
      "source": [
        "import pandas as pd\n",
        "\n",
        "df = pd.read_excel('Tabela Clientes.xlsx')\n",
        "\n",
        "display(df.head())"
      ],
      "metadata": {
        "id": "YLCyzgkNy6RK"
      },
      "execution_count": null,
      "outputs": []
    },
    {
      "cell_type": "code",
      "source": [
        "display(df['Sobrenome'].head() + ', ' + df['Primeiro Nome'].head())"
      ],
      "metadata": {
        "id": "OeE8GlX_ziGo"
      },
      "execution_count": null,
      "outputs": []
    },
    {
      "cell_type": "code",
      "source": [
        "display(df[df[\"Num Filhos\"] == 1].head())"
      ],
      "metadata": {
        "id": "IxYsxbeW0fTR"
      },
      "execution_count": null,
      "outputs": []
    },
    {
      "cell_type": "code",
      "source": [
        "\n",
        "display(df[df[\"Data de Nascimento\"] > \"1990-01-01\"])\n",
        "\n"
      ],
      "metadata": {
        "id": "PnCb0Ii221IF"
      },
      "execution_count": null,
      "outputs": []
    },
    {
      "cell_type": "code",
      "source": [
        "delim = str(\",\")\n",
        "with open(\"Nomes.csv\",\"w\") as file:\n",
        "  file.write(\"Index\"+delim+\"Sobrenome\"+delim+\"Nome\\n\")\n",
        "  display(\"Index\"+delim+\"Sobrenome\"+delim+\"Nome\")\n",
        "  for index, row in df.iterrows():\n",
        "    nome = row[\"Primeiro Nome\"]\n",
        "    sobrenome = row[\"Sobrenome\"]\n",
        "    juncao = \"\"\n",
        "    juncao = sobrenome + delim + nome\n",
        "    file.write(str(index + 1) + delim + str(juncao) + \"\\n\")\n",
        "    print(str(index + 1) + delim + str(juncao))\n",
        "\n",
        "\n",
        "\n"
      ],
      "metadata": {
        "id": "w3IUISvC4R98"
      },
      "execution_count": null,
      "outputs": []
    },
    {
      "cell_type": "code",
      "source": [],
      "metadata": {
        "id": "qqpvPm1XmnYL"
      },
      "execution_count": null,
      "outputs": []
    }
  ]
}