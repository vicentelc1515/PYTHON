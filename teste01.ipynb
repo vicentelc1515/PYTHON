{
  "nbformat": 4,
  "nbformat_minor": 0,
  "metadata": {
    "colab": {
      "provenance": [],
      "authorship_tag": "ABX9TyNa9MN8Uqwk8ZtQWvi6Mu00",
      "include_colab_link": true
    },
    "kernelspec": {
      "name": "python3",
      "display_name": "Python 3"
    },
    "language_info": {
      "name": "python"
    }
  },
  "cells": [
    {
      "cell_type": "markdown",
      "metadata": {
        "id": "view-in-github",
        "colab_type": "text"
      },
      "source": [
        "<a href=\"https://colab.research.google.com/github/vicentelc1515/PYTHON/blob/main/teste01.ipynb\" target=\"_parent\"><img src=\"https://colab.research.google.com/assets/colab-badge.svg\" alt=\"Open In Colab\"/></a>"
      ]
    },
    {
      "cell_type": "code",
      "source": [
        "import pandas as pd\n",
        "\n",
        "df = pd.read_excel('Tabela Clientes.xlsx')\n",
        "\n",
        "display(df.head())"
      ],
      "metadata": {
        "id": "YLCyzgkNy6RK",
        "outputId": "51d4139f-84c4-4dfe-dfa6-2fe018fbb973",
        "colab": {
          "base_uri": "https://localhost:8080/",
          "height": 224
        }
      },
      "execution_count": 1,
      "outputs": [
        {
          "output_type": "display_data",
          "data": {
            "text/plain": [
              "   Código do Cliente Primeiro Nome Sobrenome                email Gênero  \\\n",
              "0                  1         Adore     Crush    adore10@gmail.com      F   \n",
              "1                  2        Pegeen    Sanday    pegeen2@yahoo.com      F   \n",
              "2                  3        Brooks     Prahl      brooks4@uol.com      M   \n",
              "3                  4       Bethena     Allot   bethena1@yahoo.com      F   \n",
              "4                  5      Giordano   Minihan  giordano9@gmail.com      M   \n",
              "\n",
              "   Num Filhos Data de Nascimento  \n",
              "0           0         1976-01-13  \n",
              "1           3         1974-10-26  \n",
              "2           2         1978-09-18  \n",
              "3           4         1950-10-06  \n",
              "4           0         1969-06-04  "
            ],
            "text/html": [
              "\n",
              "  <div id=\"df-56472a4a-e5e5-4fa1-9538-abf23b4afb7e\" class=\"colab-df-container\">\n",
              "    <div>\n",
              "<style scoped>\n",
              "    .dataframe tbody tr th:only-of-type {\n",
              "        vertical-align: middle;\n",
              "    }\n",
              "\n",
              "    .dataframe tbody tr th {\n",
              "        vertical-align: top;\n",
              "    }\n",
              "\n",
              "    .dataframe thead th {\n",
              "        text-align: right;\n",
              "    }\n",
              "</style>\n",
              "<table border=\"1\" class=\"dataframe\">\n",
              "  <thead>\n",
              "    <tr style=\"text-align: right;\">\n",
              "      <th></th>\n",
              "      <th>Código do Cliente</th>\n",
              "      <th>Primeiro Nome</th>\n",
              "      <th>Sobrenome</th>\n",
              "      <th>email</th>\n",
              "      <th>Gênero</th>\n",
              "      <th>Num Filhos</th>\n",
              "      <th>Data de Nascimento</th>\n",
              "    </tr>\n",
              "  </thead>\n",
              "  <tbody>\n",
              "    <tr>\n",
              "      <th>0</th>\n",
              "      <td>1</td>\n",
              "      <td>Adore</td>\n",
              "      <td>Crush</td>\n",
              "      <td>adore10@gmail.com</td>\n",
              "      <td>F</td>\n",
              "      <td>0</td>\n",
              "      <td>1976-01-13</td>\n",
              "    </tr>\n",
              "    <tr>\n",
              "      <th>1</th>\n",
              "      <td>2</td>\n",
              "      <td>Pegeen</td>\n",
              "      <td>Sanday</td>\n",
              "      <td>pegeen2@yahoo.com</td>\n",
              "      <td>F</td>\n",
              "      <td>3</td>\n",
              "      <td>1974-10-26</td>\n",
              "    </tr>\n",
              "    <tr>\n",
              "      <th>2</th>\n",
              "      <td>3</td>\n",
              "      <td>Brooks</td>\n",
              "      <td>Prahl</td>\n",
              "      <td>brooks4@uol.com</td>\n",
              "      <td>M</td>\n",
              "      <td>2</td>\n",
              "      <td>1978-09-18</td>\n",
              "    </tr>\n",
              "    <tr>\n",
              "      <th>3</th>\n",
              "      <td>4</td>\n",
              "      <td>Bethena</td>\n",
              "      <td>Allot</td>\n",
              "      <td>bethena1@yahoo.com</td>\n",
              "      <td>F</td>\n",
              "      <td>4</td>\n",
              "      <td>1950-10-06</td>\n",
              "    </tr>\n",
              "    <tr>\n",
              "      <th>4</th>\n",
              "      <td>5</td>\n",
              "      <td>Giordano</td>\n",
              "      <td>Minihan</td>\n",
              "      <td>giordano9@gmail.com</td>\n",
              "      <td>M</td>\n",
              "      <td>0</td>\n",
              "      <td>1969-06-04</td>\n",
              "    </tr>\n",
              "  </tbody>\n",
              "</table>\n",
              "</div>\n",
              "    <div class=\"colab-df-buttons\">\n",
              "\n",
              "  <div class=\"colab-df-container\">\n",
              "    <button class=\"colab-df-convert\" onclick=\"convertToInteractive('df-56472a4a-e5e5-4fa1-9538-abf23b4afb7e')\"\n",
              "            title=\"Convert this dataframe to an interactive table.\"\n",
              "            style=\"display:none;\">\n",
              "\n",
              "  <svg xmlns=\"http://www.w3.org/2000/svg\" height=\"24px\" viewBox=\"0 -960 960 960\">\n",
              "    <path d=\"M120-120v-720h720v720H120Zm60-500h600v-160H180v160Zm220 220h160v-160H400v160Zm0 220h160v-160H400v160ZM180-400h160v-160H180v160Zm440 0h160v-160H620v160ZM180-180h160v-160H180v160Zm440 0h160v-160H620v160Z\"/>\n",
              "  </svg>\n",
              "    </button>\n",
              "\n",
              "  <style>\n",
              "    .colab-df-container {\n",
              "      display:flex;\n",
              "      gap: 12px;\n",
              "    }\n",
              "\n",
              "    .colab-df-convert {\n",
              "      background-color: #E8F0FE;\n",
              "      border: none;\n",
              "      border-radius: 50%;\n",
              "      cursor: pointer;\n",
              "      display: none;\n",
              "      fill: #1967D2;\n",
              "      height: 32px;\n",
              "      padding: 0 0 0 0;\n",
              "      width: 32px;\n",
              "    }\n",
              "\n",
              "    .colab-df-convert:hover {\n",
              "      background-color: #E2EBFA;\n",
              "      box-shadow: 0px 1px 2px rgba(60, 64, 67, 0.3), 0px 1px 3px 1px rgba(60, 64, 67, 0.15);\n",
              "      fill: #174EA6;\n",
              "    }\n",
              "\n",
              "    .colab-df-buttons div {\n",
              "      margin-bottom: 4px;\n",
              "    }\n",
              "\n",
              "    [theme=dark] .colab-df-convert {\n",
              "      background-color: #3B4455;\n",
              "      fill: #D2E3FC;\n",
              "    }\n",
              "\n",
              "    [theme=dark] .colab-df-convert:hover {\n",
              "      background-color: #434B5C;\n",
              "      box-shadow: 0px 1px 3px 1px rgba(0, 0, 0, 0.15);\n",
              "      filter: drop-shadow(0px 1px 2px rgba(0, 0, 0, 0.3));\n",
              "      fill: #FFFFFF;\n",
              "    }\n",
              "  </style>\n",
              "\n",
              "    <script>\n",
              "      const buttonEl =\n",
              "        document.querySelector('#df-56472a4a-e5e5-4fa1-9538-abf23b4afb7e button.colab-df-convert');\n",
              "      buttonEl.style.display =\n",
              "        google.colab.kernel.accessAllowed ? 'block' : 'none';\n",
              "\n",
              "      async function convertToInteractive(key) {\n",
              "        const element = document.querySelector('#df-56472a4a-e5e5-4fa1-9538-abf23b4afb7e');\n",
              "        const dataTable =\n",
              "          await google.colab.kernel.invokeFunction('convertToInteractive',\n",
              "                                                    [key], {});\n",
              "        if (!dataTable) return;\n",
              "\n",
              "        const docLinkHtml = 'Like what you see? Visit the ' +\n",
              "          '<a target=\"_blank\" href=https://colab.research.google.com/notebooks/data_table.ipynb>data table notebook</a>'\n",
              "          + ' to learn more about interactive tables.';\n",
              "        element.innerHTML = '';\n",
              "        dataTable['output_type'] = 'display_data';\n",
              "        await google.colab.output.renderOutput(dataTable, element);\n",
              "        const docLink = document.createElement('div');\n",
              "        docLink.innerHTML = docLinkHtml;\n",
              "        element.appendChild(docLink);\n",
              "      }\n",
              "    </script>\n",
              "  </div>\n",
              "\n",
              "\n",
              "<div id=\"df-362c5f9b-f28b-4281-9aa4-b95c0dcddd0a\">\n",
              "  <button class=\"colab-df-quickchart\" onclick=\"quickchart('df-362c5f9b-f28b-4281-9aa4-b95c0dcddd0a')\"\n",
              "            title=\"Suggest charts.\"\n",
              "            style=\"display:none;\">\n",
              "\n",
              "<svg xmlns=\"http://www.w3.org/2000/svg\" height=\"24px\"viewBox=\"0 0 24 24\"\n",
              "     width=\"24px\">\n",
              "    <g>\n",
              "        <path d=\"M19 3H5c-1.1 0-2 .9-2 2v14c0 1.1.9 2 2 2h14c1.1 0 2-.9 2-2V5c0-1.1-.9-2-2-2zM9 17H7v-7h2v7zm4 0h-2V7h2v10zm4 0h-2v-4h2v4z\"/>\n",
              "    </g>\n",
              "</svg>\n",
              "  </button>\n",
              "\n",
              "<style>\n",
              "  .colab-df-quickchart {\n",
              "    background-color: #E8F0FE;\n",
              "    border: none;\n",
              "    border-radius: 50%;\n",
              "    cursor: pointer;\n",
              "    display: none;\n",
              "    fill: #1967D2;\n",
              "    height: 32px;\n",
              "    padding: 0 0 0 0;\n",
              "    width: 32px;\n",
              "  }\n",
              "\n",
              "  .colab-df-quickchart:hover {\n",
              "    background-color: #E2EBFA;\n",
              "    box-shadow: 0px 1px 2px rgba(60, 64, 67, 0.3), 0px 1px 3px 1px rgba(60, 64, 67, 0.15);\n",
              "    fill: #174EA6;\n",
              "  }\n",
              "\n",
              "  [theme=dark] .colab-df-quickchart {\n",
              "    background-color: #3B4455;\n",
              "    fill: #D2E3FC;\n",
              "  }\n",
              "\n",
              "  [theme=dark] .colab-df-quickchart:hover {\n",
              "    background-color: #434B5C;\n",
              "    box-shadow: 0px 1px 3px 1px rgba(0, 0, 0, 0.15);\n",
              "    filter: drop-shadow(0px 1px 2px rgba(0, 0, 0, 0.3));\n",
              "    fill: #FFFFFF;\n",
              "  }\n",
              "</style>\n",
              "\n",
              "  <script>\n",
              "    async function quickchart(key) {\n",
              "      const charts = await google.colab.kernel.invokeFunction(\n",
              "          'suggestCharts', [key], {});\n",
              "    }\n",
              "    (() => {\n",
              "      let quickchartButtonEl =\n",
              "        document.querySelector('#df-362c5f9b-f28b-4281-9aa4-b95c0dcddd0a button');\n",
              "      quickchartButtonEl.style.display =\n",
              "        google.colab.kernel.accessAllowed ? 'block' : 'none';\n",
              "    })();\n",
              "  </script>\n",
              "</div>\n",
              "    </div>\n",
              "  </div>\n"
            ]
          },
          "metadata": {}
        }
      ]
    },
    {
      "cell_type": "code",
      "source": [
        "display(df['Sobrenome'].head() + ', ' + df['Primeiro Nome'].head())"
      ],
      "metadata": {
        "id": "OeE8GlX_ziGo"
      },
      "execution_count": null,
      "outputs": []
    },
    {
      "cell_type": "code",
      "source": [
        "display(df[df[\"Num Filhos\"] == 1].head())"
      ],
      "metadata": {
        "id": "IxYsxbeW0fTR"
      },
      "execution_count": null,
      "outputs": []
    },
    {
      "cell_type": "code",
      "source": [
        "\n",
        "display(df[df[\"Data de Nascimento\"] > \"1990-01-01\"])\n",
        "\n"
      ],
      "metadata": {
        "id": "PnCb0Ii221IF"
      },
      "execution_count": null,
      "outputs": []
    },
    {
      "cell_type": "code",
      "source": [
        "delim = str(\",\")\n",
        "with open(\"Nomes.csv\",\"w\") as file:\n",
        "  file.write(\"Index\"+delim+\"Sobrenome\"+delim+\"Nome\\n\")\n",
        "  display(\"Index\"+delim+\"Sobrenome\"+delim+\"Nome\")\n",
        "  for index, row in df.iterrows():\n",
        "    nome = row[\"Primeiro Nome\"]\n",
        "    sobrenome = row[\"Sobrenome\"]\n",
        "    juncao = \"\"\n",
        "    juncao = sobrenome + delim + nome\n",
        "    file.write(str(index + 1) + delim + str(juncao) + \"\\n\")\n",
        "    print(str(index + 1) + delim + str(juncao))\n",
        "\n",
        "\n",
        "\n"
      ],
      "metadata": {
        "id": "w3IUISvC4R98"
      },
      "execution_count": null,
      "outputs": []
    },
    {
      "cell_type": "code",
      "source": [
        "#import os\n",
        "#os.remove(\"Nomes.csv\")\n",
        "\n",
        "array = [1,2,3,4,5,6,7]\n",
        "\n",
        "print(array,len(array))\n",
        "array.pop(3)\n",
        "print(array,len(array))"
      ],
      "metadata": {
        "id": "qqpvPm1XmnYL",
        "outputId": "cd6f0d09-7225-4a6b-ba4f-03096d02196d",
        "colab": {
          "base_uri": "https://localhost:8080/"
        }
      },
      "execution_count": 10,
      "outputs": [
        {
          "output_type": "stream",
          "name": "stdout",
          "text": [
            "[1, 2, 3, 4, 5, 6, 7] 7\n",
            "[1, 2, 3, 5, 6, 7] 6\n"
          ]
        }
      ]
    },
    {
      "cell_type": "code",
      "source": [
        "print(soma(5,10))\n",
        "\n",
        "print(len(array))\n",
        "\n",
        "array.append(2)\n",
        "\n",
        "print(len(array))\n",
        "print(array)"
      ],
      "metadata": {
        "id": "hKBDpI8EmlL8",
        "outputId": "5791d2db-e23e-4480-c683-5f31eb25cebe",
        "colab": {
          "base_uri": "https://localhost:8080/"
        }
      },
      "execution_count": 5,
      "outputs": [
        {
          "output_type": "stream",
          "name": "stdout",
          "text": [
            "15\n"
          ]
        }
      ]
    },
    {
      "cell_type": "code",
      "source": [],
      "metadata": {
        "id": "4d2XUyysnBGu"
      },
      "execution_count": null,
      "outputs": []
    }
  ]
}