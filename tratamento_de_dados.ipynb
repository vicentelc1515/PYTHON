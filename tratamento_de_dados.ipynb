{
  "nbformat": 4,
  "nbformat_minor": 0,
  "metadata": {
    "colab": {
      "provenance": [],
      "authorship_tag": "ABX9TyP6q7vrT2yBODnoL734goui",
      "include_colab_link": true
    },
    "kernelspec": {
      "name": "python3",
      "display_name": "Python 3"
    },
    "language_info": {
      "name": "python"
    }
  },
  "cells": [
    {
      "cell_type": "markdown",
      "metadata": {
        "id": "view-in-github",
        "colab_type": "text"
      },
      "source": [
        "<a href=\"https://colab.research.google.com/github/vicentelc1515/PYTHON/blob/main/tratamento_de_dados.ipynb\" target=\"_parent\"><img src=\"https://colab.research.google.com/assets/colab-badge.svg\" alt=\"Open In Colab\"/></a>"
      ]
    },
    {
      "cell_type": "code",
      "source": [
        "import pandas as pd\n",
        "import seaborn as srn\n",
        "import statistics  as sts"
      ],
      "metadata": {
        "id": "vh-0Kg4zzM9J"
      },
      "execution_count": 1,
      "outputs": []
    },
    {
      "cell_type": "code",
      "source": [
        "#importar dados\n",
        "dataset = pd.read_csv(\"Churn.csv\", sep=\";\")\n",
        "#visulizar\n",
        "dataset.head()"
      ],
      "metadata": {
        "id": "ue3roSW1tL2g"
      },
      "execution_count": null,
      "outputs": []
    },
    {
      "cell_type": "code",
      "source": [
        "#tamanho\n",
        "dataset.shape"
      ],
      "metadata": {
        "id": "M0OlcwIsto4E"
      },
      "execution_count": null,
      "outputs": []
    },
    {
      "cell_type": "code",
      "source": [
        "#primeiro problema é dar nomes as colunas\n",
        "dataset.columns = [\"Id\",\"Score\",\"Estado\",\"Genero\",\"Idade\",\"Patrimonio\",\"Saldo\",\"Produtos\",\"TemCartCredito\",\n",
        "                    \"Ativo\",\"Salario\",\"Saiu\"]\n",
        "dataset.head()"
      ],
      "metadata": {
        "id": "hT3WKBgBxogh"
      },
      "execution_count": null,
      "outputs": []
    },
    {
      "cell_type": "code",
      "source": [
        "#explorar dados categoricos\n",
        "#estado\n",
        "agrupado = dataset.groupby(['Estado']).size()\n",
        "agrupado"
      ],
      "metadata": {
        "id": "PR4Wp-PLxU_f"
      },
      "execution_count": null,
      "outputs": []
    },
    {
      "cell_type": "code",
      "source": [
        "# plotando os dados agrupados por estados, em um gráfico de barras\n",
        "agrupado.plot.bar(color = 'gray')"
      ],
      "metadata": {
        "id": "ueMwOCtzx4w2"
      },
      "execution_count": null,
      "outputs": []
    },
    {
      "cell_type": "code",
      "source": [
        "#agrupa os dados de generos\n",
        "agrupado = dataset.groupby(['Genero']).size()\n",
        "agrupado"
      ],
      "metadata": {
        "id": "UwsF7fcix5Rw"
      },
      "execution_count": null,
      "outputs": []
    },
    {
      "cell_type": "code",
      "source": [
        "agrupado.plot.bar(color = 'gray')"
      ],
      "metadata": {
        "id": "wiI0RA4Sx5XV"
      },
      "execution_count": null,
      "outputs": []
    },
    {
      "cell_type": "code",
      "source": [
        "#explorar colunas numéricas\n",
        "#score\n",
        "dataset['Score'].describe()"
      ],
      "metadata": {
        "id": "CHa1Zo5rx5fF"
      },
      "execution_count": null,
      "outputs": []
    },
    {
      "cell_type": "code",
      "source": [
        "srn.boxplot(dataset['Score']).set_title('Score')\n",
        "\n",
        "srn.distplot(dataset['Score']).set_title('Score')"
      ],
      "metadata": {
        "id": "_3A-cYs27v45"
      },
      "execution_count": null,
      "outputs": []
    },
    {
      "cell_type": "code",
      "source": [
        "dataset['Idade'].describe()"
      ],
      "metadata": {
        "id": "OycH0L8m7wAF"
      },
      "execution_count": null,
      "outputs": []
    },
    {
      "cell_type": "code",
      "source": [
        "srn.boxplot(dataset['Idade']).set_title('Idade')\n",
        "\n",
        "srn.distplot(dataset['Idade']).set_title('Idade')"
      ],
      "metadata": {
        "id": "eoKBNUfw7wCv"
      },
      "execution_count": null,
      "outputs": []
    },
    {
      "cell_type": "code",
      "source": [
        "dataset['Saldo'].describe()"
      ],
      "metadata": {
        "id": "dvAzCssd71Xh"
      },
      "execution_count": null,
      "outputs": []
    },
    {
      "cell_type": "code",
      "source": [
        "srn.boxplot(dataset['Saldo']).set_title('Saldo')"
      ],
      "metadata": {
        "id": "gRl_OfnY71aA"
      },
      "execution_count": null,
      "outputs": []
    },
    {
      "cell_type": "code",
      "source": [
        "dataset['Salario'].describe()"
      ],
      "metadata": {
        "id": "tO26Bj-x71co"
      },
      "execution_count": null,
      "outputs": []
    },
    {
      "cell_type": "code",
      "source": [
        "srn.boxplot(dataset['Salario']).set_title('Salario')\n",
        "\n",
        "srn.distplot(dataset['Salario']).set_title('Salario')"
      ],
      "metadata": {
        "id": "vXRmZiXP71et"
      },
      "execution_count": null,
      "outputs": []
    },
    {
      "cell_type": "code",
      "source": [
        "dataset.isnull().sum()"
      ],
      "metadata": {
        "id": "rqlMQEfX8hzk"
      },
      "execution_count": null,
      "outputs": []
    },
    {
      "cell_type": "code",
      "source": [
        "#salarios\n",
        "#remover nas e substiutir pela mediana\n",
        "dataset['Salario'].describe()\n",
        "\n",
        "Célula de código <undefined>\n",
        "# %% [code]\n",
        "mediana = sts.median(dataset['Salario'])\n",
        "mediana\n",
        "\n",
        "Célula de código <undefined>\n",
        "# %% [code]\n",
        "#substituir NAN por mediana\n",
        "dataset['Salario'].fillna(mediana, inplace=True)\n",
        "\n",
        "Célula de código <undefined>\n",
        "# %% [code]\n",
        "#Verificamos se NAN não existem mais\n",
        "dataset['Salario'].isnull().sum()\n",
        "\n",
        "Célula de código <undefined>\n",
        "# %% [code]\n",
        "#genero, falta de padronização e NAs\n",
        "agrupado = dataset.groupby(['Genero']).size()\n",
        "agrupado\n",
        "\n",
        "Célula de código <undefined>\n",
        "# %% [code]\n",
        "#total de Nas\n",
        "dataset['Genero'].isnull().sum()\n",
        "\n",
        "Célula de código <undefined>\n",
        "# %% [code]\n",
        "#preenche NAs com Masculino (moda)\n",
        "dataset['Genero'].fillna('Masculino', inplace=True)\n",
        "\n",
        "Célula de código <undefined>\n",
        "# %% [code]\n",
        "#verificamos novamente NANs\n",
        "dataset['Genero'].isnull().sum()\n",
        "\n",
        "Célula de código <undefined>\n",
        "# %% [code]\n",
        "#padroniza de acordo com o dominio\n",
        "dataset.loc[dataset['Genero'] ==  'M', 'Genero'] = \"Masculino\"\n",
        "dataset.loc[dataset['Genero'].isin( ['Fem','F']), 'Genero'] = \"Feminino\"\n",
        "#visualiza o resultado\n",
        "agrupado = dataset.groupby(['Genero']).size()\n",
        "agrupado\n",
        "\n",
        "Célula de código <undefined>\n",
        "# %% [code]\n",
        "#idades fora do dominio\n",
        "dataset['Idade'].describe()\n",
        "\n",
        "Célula de código <undefined>\n",
        "# %% [code]\n",
        "#visualizar\n",
        "dataset.loc[(dataset['Idade'] <  0 )  | ( dataset['Idade'] >  120) ]\n",
        "\n",
        "Célula de código <undefined>\n",
        "# %% [code]\n",
        "#calular a mediana\n",
        "mediana = sts.median(dataset['Idade'])\n",
        "mediana\n",
        "\n",
        "Célula de código <undefined>\n",
        "# %% [code]\n",
        "#substituir\n",
        "dataset.loc[(dataset['Idade'] <  0 )  | ( dataset['Idade'] >  120), 'Idade'] = mediana\n",
        "\n",
        "Célula de código <undefined>\n",
        "# %% [code]\n",
        "#verificamos se ainda existem idades fora do domínio\n",
        "dataset.loc[(dataset['Idade'] <  0 )  | ( dataset['Idade'] >  120) ]\n",
        "\n",
        "Célula de código <undefined>\n",
        "# %% [code]\n",
        "#dados duplicados, buscamos pelo ID\n",
        "dataset[dataset.duplicated(['Id'],keep=False)]\n",
        "\n",
        "Célula de código <undefined>\n",
        "# %% [code]\n",
        "#excluimso pelo ID\n",
        "dataset.drop_duplicates(subset=\"Id\", keep='first',inplace=True)\n",
        "#buscamos duplicados\n",
        "dataset[dataset.duplicated(['Id'],keep=False)]\n",
        "\n",
        "Célula de código <undefined>\n",
        "# %% [code]\n",
        "#estado foram do domínio\n",
        "agrupado = dataset.groupby(['Estado']).size()\n",
        "agrupado\n",
        "\n",
        "Célula de código <undefined>\n",
        "# %% [code]\n",
        "#atribuomos RS (moda)\n",
        "dataset.loc[dataset['Estado'].isin( ['RP','SP','TD']), 'Estado'] = \"RS\"\n",
        "agrupado = dataset.groupby(['Estado']).size()\n",
        "\n",
        "Célula de código <undefined>\n",
        "# %% [code]\n",
        "#verificamos o resultado\n",
        "agrupado\n",
        "\n",
        "Célula de código <undefined>\n",
        "# %% [code]\n",
        "#outliers em salário, vamos considerar 2 desvios padrão\n",
        "desv = sts.stdev(dataset['Salario'])\n",
        "desv\n",
        "\n",
        "Célula de código <undefined>\n",
        "# %% [code]\n",
        "#definir padrão como maior que 2 desvios padrão\n",
        "#checamos se algum atende critério\n",
        "dataset.loc[dataset['Salario'] >=  2 * desv ]\n",
        "\n",
        "Célula de código <undefined>\n",
        "# %% [code]\n",
        "#vamos atualiar salarios para mediana, calculamos\n",
        "mediana = sts.median(dataset['Salario'])\n",
        "mediana\n",
        "\n",
        "Célula de código <undefined>\n",
        "# %% [code]\n",
        "#atribumos\n",
        "dataset.loc[dataset['Salario'] >=  2 * desv, 'Salario'] = mediana\n",
        "#checamos se algum atende critério\n",
        "dataset.loc[dataset['Salario'] >=  2 * desv ]\n",
        "\n",
        "Célula de código <undefined>\n",
        "# %% [code]\n",
        "dataset.head()\n",
        "\n",
        "Célula de código <undefined>\n",
        "# %% [code]\n",
        "dataset.shape\n",
        "\n",
        "Célula de código <undefined>\n",
        "# %% [code]\n"
      ],
      "metadata": {
        "id": "iam8wBWu8h4Z"
      },
      "execution_count": null,
      "outputs": []
    }
  ]
}