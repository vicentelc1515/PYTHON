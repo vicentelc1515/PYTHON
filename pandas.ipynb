{
  "nbformat": 4,
  "nbformat_minor": 0,
  "metadata": {
    "colab": {
      "provenance": [],
      "authorship_tag": "ABX9TyODk0FjObhrn89ZIqeZyDYG",
      "include_colab_link": true
    },
    "kernelspec": {
      "name": "python3",
      "display_name": "Python 3"
    },
    "language_info": {
      "name": "python"
    }
  },
  "cells": [
    {
      "cell_type": "markdown",
      "metadata": {
        "id": "view-in-github",
        "colab_type": "text"
      },
      "source": [
        "<a href=\"https://colab.research.google.com/github/vicentelc1515/PYTHON/blob/main/pandas.ipynb\" target=\"_parent\"><img src=\"https://colab.research.google.com/assets/colab-badge.svg\" alt=\"Open In Colab\"/></a>"
      ]
    },
    {
      "cell_type": "code",
      "source": [
        "import pandas as pd\n",
        "\n",
        "df = pd.read_excel('Tabela Clientes.xlsx')\n",
        "\n",
        "display(df.head())"
      ],
      "metadata": {
        "id": "YLCyzgkNy6RK"
      },
      "execution_count": null,
      "outputs": []
    },
    {
      "cell_type": "code",
      "source": [
        "display(df['Sobrenome'].head() + ', ' + df['Primeiro Nome'].head())"
      ],
      "metadata": {
        "id": "OeE8GlX_ziGo"
      },
      "execution_count": null,
      "outputs": []
    },
    {
      "cell_type": "code",
      "source": [
        "display(df[df[\"Num Filhos\"] == 1].head())"
      ],
      "metadata": {
        "id": "IxYsxbeW0fTR"
      },
      "execution_count": null,
      "outputs": []
    },
    {
      "cell_type": "code",
      "source": [
        "\n",
        "display(df[df[\"Data de Nascimento\"] > \"1990-01-01\"])\n",
        "\n"
      ],
      "metadata": {
        "id": "PnCb0Ii221IF"
      },
      "execution_count": null,
      "outputs": []
    },
    {
      "cell_type": "code",
      "source": [
        "display(\"Index -> Sobrenome, Nome\")\n",
        "for index, row in df.iterrows():\n",
        "  nome = row[\"Primeiro Nome\"]\n",
        "  sobrenome = row[\"Sobrenome\"]\n",
        "  juncao = \"\"\n",
        "  juncao = sobrenome + \",\" + nome\n",
        "\n",
        "  display(str(index + 1) + \",\" + str(juncao))\n",
        "  #basenome = open(\"Nome, \",\"w\")"
      ],
      "metadata": {
        "id": "w3IUISvC4R98"
      },
      "execution_count": null,
      "outputs": []
    },
    {
      "cell_type": "code",
      "source": [
        "!pip list"
      ],
      "metadata": {
        "id": "W9BnSvns8slj"
      },
      "execution_count": null,
      "outputs": []
    },
    {
      "cell_type": "code",
      "source": [
        "import requests\n",
        "\n",
        "api_url = \"https://servicodados.ibge.gov.br/api/v1/localidades/regioes/1|2|3|4|5\"\n",
        "\n",
        "response = requests.get(api_url)"
      ],
      "metadata": {
        "id": "xTXHXgHiA1h2"
      },
      "execution_count": null,
      "outputs": []
    },
    {
      "cell_type": "code",
      "source": [],
      "metadata": {
        "id": "k2ZsutUpCDcS"
      },
      "execution_count": null,
      "outputs": []
    }
  ]
}